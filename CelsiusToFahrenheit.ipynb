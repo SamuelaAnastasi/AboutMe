{
  "nbformat": 4,
  "nbformat_minor": 0,
  "metadata": {
    "colab": {
      "name": "CelsiusToFahrenheit.ipynb",
      "version": "0.3.2",
      "provenance": [],
      "collapsed_sections": [],
      "include_colab_link": true
    },
    "kernelspec": {
      "name": "python3",
      "display_name": "Python 3"
    }
  },
  "cells": [
    {
      "cell_type": "markdown",
      "metadata": {
        "id": "view-in-github",
        "colab_type": "text"
      },
      "source": [
        "<a href=\"https://colab.research.google.com/github/SamuelaAnastasi/AboutMe/blob/master/CelsiusToFahrenheit.ipynb\" target=\"_parent\"><img src=\"https://colab.research.google.com/assets/colab-badge.svg\" alt=\"Open In Colab\"/></a>"
      ]
    },
    {
      "metadata": {
        "id": "_IDmZbU3HIzW",
        "colab_type": "code",
        "colab": {}
      },
      "cell_type": "code",
      "source": [
        ""
      ],
      "execution_count": 0,
      "outputs": []
    },
    {
      "metadata": {
        "id": "CRNQWNqSHpH_",
        "colab_type": "text"
      },
      "cell_type": "markdown",
      "source": [
        "# Simple ML model"
      ]
    },
    {
      "metadata": {
        "id": "gDvibYvMHu-v",
        "colab_type": "code",
        "colab": {
          "base_uri": "https://localhost:8080/",
          "height": 136
        },
        "outputId": "a0fb5317-ce52-4e38-93cf-ad2b04bfda6a"
      },
      "cell_type": "code",
      "source": [
        "from __future__ import absolute_import, division, print_function, unicode_literals\n",
        "import tensorflow as tf\n",
        "tf.logging.set_verbosity(tf.logging.ERROR)\n",
        "\n",
        "import numpy as np\n",
        "\n",
        "celsius_q = np.array([-40, -10, 0, 8, 15, 22, 38], dtype=float)\n",
        "fahrenheit_a = np.array([-40,  14, 32, 46, 59, 72, 100], dtype=float)\n",
        "\n",
        "for i,c in enumerate(celsius_q):\n",
        "  print(\"{} degrees Celsius = {} degrees Fahrenheit\".format(c, fahrenheit_a[i]))"
      ],
      "execution_count": 2,
      "outputs": [
        {
          "output_type": "stream",
          "text": [
            "-40.0 degrees Celsius = -40.0 degrees Fahrenheit\n",
            "-10.0 degrees Celsius = 14.0 degrees Fahrenheit\n",
            "0.0 degrees Celsius = 32.0 degrees Fahrenheit\n",
            "8.0 degrees Celsius = 46.0 degrees Fahrenheit\n",
            "15.0 degrees Celsius = 59.0 degrees Fahrenheit\n",
            "22.0 degrees Celsius = 72.0 degrees Fahrenheit\n",
            "38.0 degrees Celsius = 100.0 degrees Fahrenheit\n"
          ],
          "name": "stdout"
        }
      ]
    },
    {
      "metadata": {
        "id": "dYehsZCISXHV",
        "colab_type": "text"
      },
      "cell_type": "markdown",
      "source": [
        "# Create a Model"
      ]
    },
    {
      "metadata": {
        "id": "m_ee47OZSjck",
        "colab_type": "text"
      },
      "cell_type": "markdown",
      "source": [
        "Build a layer with only 1 neuron (i.e. 1 variable to learn) and input_shape of 1 (i.e. 1 dimension array with only 1 element)  Celsius degree.\n",
        "The model is going to use the Dense network"
      ]
    },
    {
      "metadata": {
        "id": "phQIcHoCTLpr",
        "colab_type": "code",
        "colab": {
          "base_uri": "https://localhost:8080/",
          "height": 34
        },
        "outputId": "7f0bf2fe-0b2f-4356-c90e-7f51b21d8301"
      },
      "cell_type": "code",
      "source": [
        "# Create layer 1 neuron - 1 input\n",
        "l0 = tf.keras.layers.Dense(units=1, input_shape=[1])\n",
        "# create model using Sequential model definition\n",
        "model = tf.keras.Sequential([l0])\n",
        "# compile model before training insert training loss function and optmizer Adam with learning rate\n",
        "model.compile(loss=\"mean_squared_error\", optimizer=tf.keras.optimizers.Adam(0.1))\n",
        "# train the model\n",
        "history = model.fit(celsius_q, fahrenheit_a, epochs=500, verbose=False)\n",
        "print(\"Finished training the model\")"
      ],
      "execution_count": 3,
      "outputs": [
        {
          "output_type": "stream",
          "text": [
            "Finished training the model\n"
          ],
          "name": "stdout"
        }
      ]
    },
    {
      "metadata": {
        "id": "Oy-4ofzImq1p",
        "colab_type": "text"
      },
      "cell_type": "markdown",
      "source": [
        "#Display Statistics"
      ]
    },
    {
      "metadata": {
        "id": "K9XFoMrimy6R",
        "colab_type": "text"
      },
      "cell_type": "markdown",
      "source": [
        "Use Matplotlib to print loss function from the training history"
      ]
    },
    {
      "metadata": {
        "id": "vCds6PVTm8tY",
        "colab_type": "code",
        "colab": {
          "base_uri": "https://localhost:8080/",
          "height": 300
        },
        "outputId": "8f0b7e27-54e1-448f-a503-a9d44642ed85"
      },
      "cell_type": "code",
      "source": [
        "# Import matplotlib and configure it\n",
        "import matplotlib.pyplot as plt\n",
        "plt.xlabel(\"Epoch number\")\n",
        "plt.ylabel(\"Loss magnitde\")\n",
        "plt.plot(history.history['loss'])"
      ],
      "execution_count": 4,
      "outputs": [
        {
          "output_type": "execute_result",
          "data": {
            "text/plain": [
              "[<matplotlib.lines.Line2D at 0x7f32b70b5780>]"
            ]
          },
          "metadata": {
            "tags": []
          },
          "execution_count": 4
        },
        {
          "output_type": "display_data",
          "data": {
            "image/png": "[encoded data removed]",
            "text/plain": [
              "<Figure size 432x288 with 1 Axes>"
            ]
          },
          "metadata": {
            "tags": []
          }
        }
      ]
    },
    {
      "metadata": {
        "id": "cE9pGHNAn73G",
        "colab_type": "text"
      },
      "cell_type": "markdown",
      "source": [
        "# Use model to predict values"
      ]
    },
    {
      "metadata": {
        "id": "xaqpD9VdoEEA",
        "colab_type": "code",
        "colab": {
          "base_uri": "https://localhost:8080/",
          "height": 34
        },
        "outputId": "1a1bc6e9-b813-46f3-f25d-6eace2a7f0d0"
      },
      "cell_type": "code",
      "source": [
        "print(model.predict([100]))"
      ],
      "execution_count": 5,
      "outputs": [
        {
          "output_type": "stream",
          "text": [
            "[[211.32964]]\n"
          ],
          "name": "stdout"
        }
      ]
    },
    {
      "metadata": {
        "id": "dpyOsbYkodre",
        "colab_type": "text"
      },
      "cell_type": "markdown",
      "source": [
        "# Print layer weights (variables)"
      ]
    },
    {
      "metadata": {
        "id": "eUABI5pcolLN",
        "colab_type": "code",
        "colab": {
          "base_uri": "https://localhost:8080/",
          "height": 51
        },
        "outputId": "6c794542-63ca-4a64-8114-9b72427b2674"
      },
      "cell_type": "code",
      "source": [
        "print(\"These are the layer variables: {}\".format(l0.get_weights()))"
      ],
      "execution_count": 8,
      "outputs": [
        {
          "output_type": "stream",
          "text": [
            "These are the layer variables: [array([[-0.9058929 ,  0.16993685,  0.2098366 ,  0.02326601]],\n",
            "      dtype=float32), array([-2.6500313,  2.2909915, -1.9402888,  2.3145993], dtype=float32)]\n"
          ],
          "name": "stdout"
        }
      ]
    },
    {
      "metadata": {
        "id": "4OxnNJdbzU6N",
        "colab_type": "text"
      },
      "cell_type": "markdown",
      "source": [
        "#Create Model with more layers"
      ]
    },
    {
      "metadata": {
        "id": "JvR9EyeWzco1",
        "colab_type": "code",
        "colab": {
          "base_uri": "https://localhost:8080/",
          "height": 303
        },
        "outputId": "26205f72-07ae-47e6-a4a9-8e6f18f6f227"
      },
      "cell_type": "code",
      "source": [
        "l0=tf.keras.layers.Dense(units=4, input_shape=[1])\n",
        "l1=tf.keras.layers.Dense(units=4)\n",
        "l2=tf.keras.layers.Dense(units=1)\n",
        "model=tf.keras.Sequential([l0, l1, l2])\n",
        "model.compile(loss=\"mean_squared_error\", optimizer=tf.keras.optimizers.Adam(0.1))\n",
        "history=model.fit(celsius_q, fahrenheit_a, epochs=500, verbose=False)\n",
        "print(\"Finished training the model\")\n",
        "plt.plot(history.history['loss'])\n",
        "print(model.predict([100]))"
      ],
      "execution_count": 10,
      "outputs": [
        {
          "output_type": "stream",
          "text": [
            "Finished training the model\n",
            "[[211.74742]]\n"
          ],
          "name": "stdout"
        },
        {
          "output_type": "display_data",
          "data": {
            "image/png": "[encoded data removed]",
            "text/plain": [
              "<Figure size 432x288 with 1 Axes>"
            ]
          },
          "metadata": {
            "tags": []
          }
        }
      ]
    },
    {
      "metadata": {
        "id": "0kC76NW4ebr-",
        "colab_type": "code",
        "colab": {
          "base_uri": "https://localhost:8080/",
          "height": 289
        },
        "outputId": "a934e092-1fdf-43e3-8e35-eae1f67f433c"
      },
      "cell_type": "code",
      "source": [
        "# Print weights (variables) for each layer\n",
        "print(\"Weights for l0 layer:\\n {}\".format(l0.get_weights()))\n",
        "print(\"\\nWeights for l1 layer:\\n {}\".format(l1.get_weights()))\n",
        "print(\"\\nWeights for l2 layer:\\n {}\".format(l2.get_weights()))"
      ],
      "execution_count": 13,
      "outputs": [
        {
          "output_type": "stream",
          "text": [
            "Weights for l0 layer:\n",
            " [array([[-0.44463986, -0.20209447,  0.14322414, -0.28146508]],\n",
            "      dtype=float32), array([-3.308973 , -2.7408817,  3.3175898, -3.4397893], dtype=float32)]\n",
            "\n",
            "Weights for l1 layer:\n",
            " [array([[-0.9620712 ,  0.45393756,  0.03006568,  0.88536626],\n",
            "       [-0.677957  ,  1.0584465 ,  0.1627979 ,  0.14449646],\n",
            "       [ 0.439064  , -0.53689986,  0.81240535,  0.05846558],\n",
            "       [-0.86748266,  0.22980061, -0.65605634,  0.866258  ]],\n",
            "      dtype=float32), array([ 3.5159485, -3.6576877,  2.1800628, -3.4706757], dtype=float32)]\n",
            "\n",
            "Weights for l2 layer:\n",
            " [array([[ 1.0728334 ],\n",
            "       [-0.61034405],\n",
            "       [ 0.21490942],\n",
            "       [-0.7104575 ]], dtype=float32), array([3.2949524], dtype=float32)]\n"
          ],
          "name": "stdout"
        }
      ]
    }
  ]
}