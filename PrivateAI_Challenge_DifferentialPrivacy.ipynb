{
  "nbformat": 4,
  "nbformat_minor": 0,
  "metadata": {
    "colab": {
      "name": "PrivateAI_Challenge_DifferentialPrivacy.ipynb",
      "version": "0.3.2",
      "provenance": []
    },
    "kernelspec": {
      "name": "python3",
      "display_name": "Python 3"
    }
  },
  "cells": [
    {
      "cell_type": "markdown",
      "metadata": {
        "id": "CsImVwCTOLgF",
        "colab_type": "text"
      },
      "source": [
        "#Project: Generate Parallel Databases\n",
        "\n",
        "Create a list of every parallel database to the one currently contained in the \"db\" variable. Create a function which both:\n",
        "\n",
        "* creates the initial database (db) \n",
        "* creates all parallel databases"
      ]
    },
    {
      "cell_type": "code",
      "metadata": {
        "id": "O54Z7yHaSCLY",
        "colab_type": "code",
        "colab": {}
      },
      "source": [
        "import torch"
      ],
      "execution_count": 0,
      "outputs": []
    },
    {
      "cell_type": "code",
      "metadata": {
        "id": "FFMCcVdKLhBT",
        "colab_type": "code",
        "colab": {}
      },
      "source": [
        "def create_parallel_db(db, index):\n",
        "\n",
        "    return torch.cat((db[0:index], \n",
        "                      db[index+1:]))"
      ],
      "execution_count": 0,
      "outputs": []
    },
    {
      "cell_type": "code",
      "metadata": {
        "id": "6AXbb7ojR38w",
        "colab_type": "code",
        "colab": {
          "base_uri": "https://localhost:8080/",
          "height": 34
        },
        "outputId": "c4fd190e-8e86-417b-da01-4368e2c82762"
      },
      "source": [
        "num_els = 5000\n",
        "db = torch.rand(num_els) > 0.5\n",
        "db"
      ],
      "execution_count": 4,
      "outputs": [
        {
          "output_type": "execute_result",
          "data": {
            "text/plain": [
              "tensor([1, 1, 0,  ..., 0, 1, 0], dtype=torch.uint8)"
            ]
          },
          "metadata": {
            "tags": []
          },
          "execution_count": 4
        }
      ]
    },
    {
      "cell_type": "code",
      "metadata": {
        "id": "H80r2z1xRtro",
        "colab_type": "code",
        "colab": {
          "base_uri": "https://localhost:8080/",
          "height": 34
        },
        "outputId": "ad674009-010f-4412-b728-2d2a925551fd"
      },
      "source": [
        "create_parallel_db(db, 47)"
      ],
      "execution_count": 5,
      "outputs": [
        {
          "output_type": "execute_result",
          "data": {
            "text/plain": [
              "tensor([1, 1, 0,  ..., 0, 1, 0], dtype=torch.uint8)"
            ]
          },
          "metadata": {
            "tags": []
          },
          "execution_count": 5
        }
      ]
    },
    {
      "cell_type": "code",
      "metadata": {
        "id": "dpnpSKEHSpLQ",
        "colab_type": "code",
        "colab": {}
      },
      "source": [
        "def create_parallel_dbs(db):\n",
        "\n",
        "    parallel_dbs = list()\n",
        "\n",
        "    for i in range(len(db)):\n",
        "        pdb = create_parallel_db(db, i)\n",
        "        parallel_dbs.append(pdb)\n",
        "    \n",
        "    return parallel_dbs"
      ],
      "execution_count": 0,
      "outputs": []
    },
    {
      "cell_type": "code",
      "metadata": {
        "id": "vB4VvxUfS0_n",
        "colab_type": "code",
        "colab": {}
      },
      "source": [
        "pdbs = create_parallel_dbs(db)"
      ],
      "execution_count": 0,
      "outputs": []
    },
    {
      "cell_type": "code",
      "metadata": {
        "id": "_nZ4LSXfTLre",
        "colab_type": "code",
        "colab": {}
      },
      "source": [
        "def create_db_and_parallel_dbs(num_els):\n",
        "    \n",
        "    db = torch.rand(num_els) > 0.5\n",
        "    pdbs = create_parallel_dbs(db)\n",
        "    \n",
        "    return db, pdbs"
      ],
      "execution_count": 0,
      "outputs": []
    },
    {
      "cell_type": "code",
      "metadata": {
        "id": "JG2hntsuTnN-",
        "colab_type": "code",
        "colab": {}
      },
      "source": [
        "db, pdbs = create_db_and_parallel_dbs(40)"
      ],
      "execution_count": 0,
      "outputs": []
    },
    {
      "cell_type": "markdown",
      "metadata": {
        "id": "sP1a_ZRKUACM",
        "colab_type": "text"
      },
      "source": [
        "#Lesson: Evaluate The Differential Privacy of a Function\n",
        "Evaluate how much privacy is leaked by measuring the maximum amount the query changes when someone is removed (maximum over all possible people who could be removed)"
      ]
    },
    {
      "cell_type": "code",
      "metadata": {
        "id": "AxcbTdHNUw9u",
        "colab_type": "code",
        "colab": {}
      },
      "source": [
        "db, pdbs = create_db_and_parallel_dbs(5000)"
      ],
      "execution_count": 0,
      "outputs": []
    },
    {
      "cell_type": "code",
      "metadata": {
        "id": "ky8Ov5tLWmsp",
        "colab_type": "code",
        "colab": {}
      },
      "source": [
        "def query_sum(db):\n",
        "    return db.sum()"
      ],
      "execution_count": 0,
      "outputs": []
    },
    {
      "cell_type": "code",
      "metadata": {
        "id": "aPP4mfrSWxgI",
        "colab_type": "code",
        "colab": {}
      },
      "source": [
        "original_db_result = query_sum(db)"
      ],
      "execution_count": 0,
      "outputs": []
    },
    {
      "cell_type": "code",
      "metadata": {
        "id": "wCRuuWluXH0X",
        "colab_type": "code",
        "colab": {}
      },
      "source": [
        "query_sensitivity = 0\n",
        "for pdb in pdbs:\n",
        "    pdb_result = query_sum(pdb)\n",
        "    \n",
        "    db_difference = torch.abs(pdb_result - original_db_result)\n",
        "    \n",
        "    if(db_difference > query_sensitivity):\n",
        "        query_sensitivity = db_difference"
      ],
      "execution_count": 0,
      "outputs": []
    },
    {
      "cell_type": "code",
      "metadata": {
        "id": "e232UR8_XrLu",
        "colab_type": "code",
        "colab": {
          "base_uri": "https://localhost:8080/",
          "height": 34
        },
        "outputId": "5cbdf3cb-1159-4bac-b068-da9b7ad93fc9"
      },
      "source": [
        "query_sensitivity"
      ],
      "execution_count": 17,
      "outputs": [
        {
          "output_type": "execute_result",
          "data": {
            "text/plain": [
              "tensor(1)"
            ]
          },
          "metadata": {
            "tags": []
          },
          "execution_count": 17
        }
      ]
    }
  ]
}